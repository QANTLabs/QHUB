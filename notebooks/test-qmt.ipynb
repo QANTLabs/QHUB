{
 "cells": [
  {
   "cell_type": "markdown",
   "metadata": {},
   "source": [
    "# Quantum Machine Learning with QMT\n",
    "\n",
    "This tutorial demonstrates how to use the `QuantumMLFramework` from QANT Labs to perform a classification task using quantum computing.\n",
    "We will:\n",
    "1. Generate a synthetic dataset.\n",
    "2. Initialize and configure a quantum machine learning model.\n",
    "3. Train the model using quantum optimization.\n",
    "4. Evaluate the model's performance."
   ]
  },
  {
   "cell_type": "code",
   "execution_count": null,
   "metadata": {},
   "outputs": [],
   "source": [
    "import numpy as np\n",
    "from qmt import QuantumMLFramework  # QMT is a Quantum ML library from QANT Labs"
   ]
  },
  {
   "cell_type": "markdown",
   "metadata": {},
   "source": [
    "## Step 1: Data Generation\n",
    "We generate a synthetic dataset with two features, where labels are assigned based on a non-linear function of the inputs."
   ]
  },
  {
   "cell_type": "code",
   "execution_count": null,
   "metadata": {},
   "outputs": [],
   "source": [
    "# Set a random seed for reproducibility\n",
    "np.random.seed(42)\n",
    "\n",
    "# Define dataset parameters\n",
    "num_samples = 20  # Number of data points\n",
    "feature_dim = 2     # Number of features (input dimension)\n",
    "\n",
    "# Generate random input features in the range [0, π]\n",
    "X = np.random.uniform(0, np.pi, (num_samples, feature_dim))\n",
    "\n",
    "# Define labels based on the sum of sine values of the features\n",
    "# If sum(sin(x)) >= 0, label is 0; otherwise, label is 1\n",
    "y = np.array([0 if np.sum(np.sin(x)) >= 0 else 1 for x in X])\n",
    "\n",
    "# Split data into training (80%) and testing (20%) sets\n",
    "train_size = int(0.8 * num_samples)\n",
    "X_train, X_test = X[:train_size], X[train_size:]\n",
    "y_train, y_test = y[:train_size], y[train_size:]"
   ]
  },
  {
   "cell_type": "markdown",
   "metadata": {},
   "source": [
    "## Step 2: Quantum Model Initialization\n",
    "We initialize a quantum machine learning model using IBM's Qiskit backend."
   ]
  },
  {
   "cell_type": "code",
   "execution_count": null,
   "metadata": {},
   "outputs": [],
   "source": [
    "# Initialize the QuantumMLFramework for classification\n",
    "qml = QuantumMLFramework(\n",
    "    device='ibm_qiskit',  # Use IBM Qiskit backend\n",
    "    task_type='classification',\n",
    "    n_qubits=feature_dim,  # Number of qubits corresponds to feature dimensions\n",
    "    shots=1024,  # Number of measurements per circuit execution\n",
    "    backend_name='aer_simulator',  # Use Qiskit's Aer simulator for execution\n",
    "    feature_map_type='ZZFeatureMap',  # Feature encoding method\n",
    "    ansatz_type='TwoLocal',  # Parameterized quantum circuit type\n",
    "    optimizer_name='COBYLA',  # Classical optimizer used for training\n",
    "    optimizer_kwargs={'maxiter': 2},  # Maximum iterations for optimizer\n",
    "    verbose=True  # Enable detailed logging\n",
    ")"
   ]
  },
  {
   "cell_type": "markdown",
   "metadata": {},
   "source": [
    "## Step 3: Model Training\n",
    "We train the quantum model using the generated training dataset."
   ]
  },
  {
   "cell_type": "code",
   "execution_count": null,
   "metadata": {},
   "outputs": [],
   "source": [
    "# Build quantum model with specified input dimension\n",
    "qml.build_model(input_dim=feature_dim)\n",
    "\n",
    "# Train the model using quantum optimization\n",
    "qml.fit(X_train, y_train)"
   ]
  },
  {
   "cell_type": "markdown",
   "metadata": {},
   "source": [
    "## Step 4: Model Evaluation\n",
    "We test the trained model on unseen data and visualize the training progress."
   ]
  },
  {
   "cell_type": "code",
   "execution_count": null,
   "metadata": {},
   "outputs": [],
   "source": [
    "# Evaluate the trained model on the test set\n",
    "score = qml.score(X_test, y_test)\n",
    "\n",
    "# Plot training progress to visualize optimization performance\n",
    "qml.plot_training_progress()"
   ]
  }
 ],
 "metadata": {
  "language_info": {
   "name": "python"
  }
 },
 "nbformat": 4,
 "nbformat_minor": 2
}
